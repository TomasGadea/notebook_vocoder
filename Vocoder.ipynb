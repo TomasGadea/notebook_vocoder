{
 "cells": [
  {
   "cell_type": "markdown",
   "metadata": {},
   "source": [
    "# VOCODER ANALYSIS"
   ]
  },
  {
   "cell_type": "markdown",
   "metadata": {},
   "source": [
    "## Authors:\n",
    "* Cortada Garcia, Martí\n",
    "* Gadea Alcaide, Tomás\n",
    "* Matas Albiol, Pau\n",
    "* Poch Soler, Jofre"
   ]
  },
  {
   "cell_type": "markdown",
   "metadata": {},
   "source": [
    "### Setup:"
   ]
  },
  {
   "cell_type": "code",
   "execution_count": 1,
   "metadata": {},
   "outputs": [],
   "source": [
    "# numerical\n",
    "import scipy.io\n",
    "import scipy.signal\n",
    "from scipy.signal import convolve, correlate, argrelextrema\n",
    "import numpy as np\n",
    "# plotting\n",
    "import matplotlib.pyplot as plt\n",
    "%matplotlib notebook\n",
    "# sound modules\n",
    "import sounddevice as sd\n",
    "from scipy.io import wavfile\n",
    "# warnings\n",
    "import warnings\n",
    "warnings.filterwarnings('ignore')  # shut warnings"
   ]
  },
  {
   "cell_type": "markdown",
   "metadata": {},
   "source": [
    "### Loading files:"
   ]
  },
  {
   "cell_type": "code",
   "execution_count": 2,
   "metadata": {},
   "outputs": [
    {
     "name": "stdout",
     "output_type": "stream",
     "text": [
      "dict_keys(['coef', 'excit', 'ganancia'])\n"
     ]
    }
   ],
   "source": [
    "mat = scipy.io.loadmat('sintesis.mat')  # dict\n",
    "# delete useless data\n",
    "del mat['__header__']\n",
    "del mat['__version__']\n",
    "del mat['__globals__']\n",
    "print(mat.keys())"
   ]
  },
  {
   "cell_type": "code",
   "execution_count": 3,
   "metadata": {},
   "outputs": [
    {
     "name": "stdout",
     "output_type": "stream",
     "text": [
      "B   (type, shape) =  <class 'numpy.ndarray'> (401,)\n",
      "a_i (type, shape) =  <class 'numpy.ndarray'> (401, 11)\n",
      "x_n (type, shape) =  <class 'numpy.ndarray'> (401, 120)\n"
     ]
    }
   ],
   "source": [
    "B = mat['ganancia'][0]\n",
    "a_i = mat['coef']\n",
    "x_n = mat['excit']\n",
    "\n",
    "print(\"B   (type, shape) = \", type(B), B.shape)\n",
    "print(\"a_i (type, shape) = \", type(a_i), a_i.shape)\n",
    "print(\"x_n (type, shape) = \", type(x_n), x_n.shape)"
   ]
  },
  {
   "cell_type": "markdown",
   "metadata": {},
   "source": [
    "### Brief introduction:"
   ]
  },
  {
   "cell_type": "markdown",
   "metadata": {},
   "source": [
    "Before getting into the subject, let us explain briefly how the synthetic signal is generated and how we will us it. The signal is generated as follows:\n",
    "$$y[n]=bx[n]-\\sum_{i=1}^{p}a_iy[n-1]\\hspace{1cm}n=0,...,N-1$$\n",
    "where:\n",
    "* $b=$ gain \n",
    "* $x[n]=$ excitation ($x[n]=excit[n]$)\n",
    "* $coef[i]=a[i];$   $i=0,...,p;$   $a[0=1]$\n",
    "\n",
    "and we keep concatenating each $y[n]$ frame till we get the total synthetic signal. Once understood the mathematical aprroximation, we will take advantadge of $\\texttt{python}$ and use **scipy.signal.lfilter(** _b, a, x, axis=- 1, zi=None_ **)** which modelizes the previous approximation directly."
   ]
  },
  {
   "cell_type": "markdown",
   "metadata": {},
   "source": [
    "# SECTION A: Filtering "
   ]
  },
  {
   "cell_type": "markdown",
   "metadata": {},
   "source": [
    "## Question a)"
   ]
  },
  {
   "cell_type": "markdown",
   "metadata": {},
   "source": [
    "We are asked to represent the impulse response of the 100th frame. To do so, we will put at the input of the filter the sequence $x[n]={1, 0, 0, 0, 0, ...}$ Afterwards, we will study its lenght:"
   ]
  },
  {
   "cell_type": "code",
   "execution_count": 4,
   "metadata": {},
   "outputs": [
    {
     "data": {
      "text/plain": [
       "<StemContainer object of 3 artists>"
      ]
     },
     "execution_count": 4,
     "metadata": {},
     "output_type": "execute_result"
    },
    {
     "data": {
      "image/png": "[encoded data removed]",
      "text/plain": [
       "<Figure size 432x288 with 1 Axes>"
      ]
     },
     "metadata": {
      "needs_background": "light"
     },
     "output_type": "display_data"
    }
   ],
   "source": [
    "dK = np.array([1]+[0]*119)  # Kronecker delta\n",
    "h_n = scipy.signal.lfilter([B[99]], a_i[99], dK, axis= -1, zi=None)  # impulse response \n",
    "plt.close('all')\n",
    "plt.stem(range(120), h_n)"
   ]
  },
  {
   "cell_type": "code",
   "execution_count": 5,
   "metadata": {},
   "outputs": [
    {
     "name": "stdout",
     "output_type": "stream",
     "text": [
      "120\n"
     ]
    }
   ],
   "source": [
    "print(len(h_n))"
   ]
  },
  {
   "cell_type": "markdown",
   "metadata": {},
   "source": [
    "### Conclusion Question a)\n",
    "The impulse response has length 120."
   ]
  },
  {
   "cell_type": "markdown",
   "metadata": {},
   "source": [
    "## Question b)"
   ]
  },
  {
   "cell_type": "markdown",
   "metadata": {},
   "source": [
    "We will represent the same output (that is the 100th frame), but now we are asked to apply its corresponding excitement and gainth (that we can find at _sintesis.mat_ file, which we previously load). Let's see the output:"
   ]
  },
  {
   "cell_type": "code",
   "execution_count": 6,
   "metadata": {},
   "outputs": [
    {
     "data": {
      "text/plain": [
       "<StemContainer object of 3 artists>"
      ]
     },
     "execution_count": 6,
     "metadata": {},
     "output_type": "execute_result"
    },
    {
     "data": {
      "image/png": "[encoded data removed]",
      "text/plain": [
       "<Figure size 432x288 with 1 Axes>"
      ]
     },
     "metadata": {
      "needs_background": "light"
     },
     "output_type": "display_data"
    }
   ],
   "source": [
    "y_n = scipy.signal.lfilter([B[99]], a_i[99], x_n[99], axis= -1, zi=None)\n",
    "plt.close('all')\n",
    "plt.stem(range(120), y_n)"
   ]
  },
  {
   "cell_type": "markdown",
   "metadata": {},
   "source": [
    "## Question c)"
   ]
  },
  {
   "cell_type": "markdown",
   "metadata": {},
   "source": [
    "Finally, we will compute the total synthesis filtring all frames with its corresponding excitations and concatenating the outputs. Let's check what happens:"
   ]
  },
  {
   "cell_type": "code",
   "execution_count": 7,
   "metadata": {},
   "outputs": [
    {
     "data": {
      "text/plain": [
       "[<matplotlib.lines.Line2D at 0x7fdb90e6f5d0>]"
      ]
     },
     "execution_count": 7,
     "metadata": {},
     "output_type": "execute_result"
    },
    {
     "data": {
      "image/png": "[encoded data removed]",
      "text/plain": [
       "<Figure size 432x288 with 1 Axes>"
      ]
     },
     "metadata": {
      "needs_background": "light"
     },
     "output_type": "display_data"
    }
   ],
   "source": [
    "domain = range(120*401)\n",
    "output = np.array([])\n",
    "for n in range(401):\n",
    "    output = np.append(output, scipy.signal.lfilter([B[n]], a_i[n], x_n[n], axis= -1, zi=None))\n",
    "\n",
    "plt.close('all')\n",
    "plt.plot(domain, output)"
   ]
  },
  {
   "cell_type": "code",
   "execution_count": 8,
   "metadata": {},
   "outputs": [],
   "source": [
    "sd.play(output)"
   ]
  },
  {
   "cell_type": "markdown",
   "metadata": {},
   "source": [
    "The output signal is quite short to be heard propperly, thus let output be rescaled for the sake of practicality:"
   ]
  },
  {
   "cell_type": "code",
   "execution_count": 9,
   "metadata": {},
   "outputs": [],
   "source": [
    "def rescale(signal, factor=6, interpolate=False):\n",
    "    dom = signal.size\n",
    "    if not interpolate:\n",
    "        new = np.zeros(dom*factor)\n",
    "        for idx, val in enumerate(signal):\n",
    "            new[idx*factor] = val\n",
    "        return new\n",
    "    # with interpolation:\n",
    "    return np.interp(np.linspace(0, dom, factor*dom+1), np.arange(dom), signal)"
   ]
  },
  {
   "cell_type": "code",
   "execution_count": 10,
   "metadata": {},
   "outputs": [],
   "source": [
    "output_r = rescale(output)\n",
    "sd.play(output_r)"
   ]
  },
  {
   "cell_type": "markdown",
   "metadata": {},
   "source": [
    "## Question d)"
   ]
  },
  {
   "cell_type": "code",
   "execution_count": 11,
   "metadata": {},
   "outputs": [
    {
     "name": "stdout",
     "output_type": "stream",
     "text": [
      "There are  4927  points where output is zero.\n",
      "The first index where output is zero:  3360\n"
     ]
    }
   ],
   "source": [
    "idxs = np.argwhere(output==0)\n",
    "print(\"There are \", len(idxs), \" points where output is zero.\")\n",
    "first_zero =  idxs[0,0]\n",
    "print(\"The first index where output is zero: \", first_zero)"
   ]
  },
  {
   "cell_type": "markdown",
   "metadata": {},
   "source": [
    "In order to find out how many points of the signal have the value 0, we have used the command ```idxs = np.argwhere(output==0)```. It clearly shows that there are 4927 points where the output signal is 0.\n",
    "\n",
    "Once having shown that, the next step is showing that there are some segments where the synthesized signal changes abruptly to 0 and other short ones which also take the value 0. To see that, we have projected a short segment (lenght 30) of the output signal that contains some 0 values:"
   ]
  },
  {
   "cell_type": "code",
   "execution_count": 12,
   "metadata": {},
   "outputs": [
    {
     "data": {
      "text/plain": [
       "<StemContainer object of 3 artists>"
      ]
     },
     "execution_count": 12,
     "metadata": {},
     "output_type": "execute_result"
    },
    {
     "data": {
      "image/png": "[encoded data removed]",
      "text/plain": [
       "<Figure size 432x288 with 1 Axes>"
      ]
     },
     "metadata": {
      "needs_background": "light"
     },
     "output_type": "display_data"
    }
   ],
   "source": [
    "plt.close('all')\n",
    "plt.stem(range(30), output[first_zero - 10:first_zero+20])"
   ]
  },
  {
   "cell_type": "markdown",
   "metadata": {},
   "source": [
    "### Conclusion Question d)\n",
    "In this example we can see that there is a secuence where the output is zero, and suddenly it changes to a higher value. If we repeat this for every zero secuence, we can see the changes on the signal."
   ]
  },
  {
   "cell_type": "markdown",
   "metadata": {},
   "source": [
    "## Question e)"
   ]
  },
  {
   "cell_type": "markdown",
   "metadata": {},
   "source": [
    "To synthesize all the frames so that the output signal doesen't present the value 0 at any point, it is necessary a loop that, for each individual frame, its initial conditions ```zi``` are the final conditions ```zf```of the previous frame (setting the initial conditions of the first frame as an array of zeros)."
   ]
  },
  {
   "cell_type": "code",
   "execution_count": 13,
   "metadata": {},
   "outputs": [],
   "source": [
    "output2 = np.array([])\n",
    "zf = np.zeros(10)\n",
    "for n in range(401):\n",
    "    evaluate, zf = scipy.signal.lfilter([B[n]], a_i[n], x_n[n], axis= -1, zi=zf[-10:])\n",
    "    output2 = np.append(output2, evaluate)"
   ]
  },
  {
   "cell_type": "code",
   "execution_count": 14,
   "metadata": {},
   "outputs": [
    {
     "data": {
      "text/plain": [
       "[<matplotlib.lines.Line2D at 0x7fdb91958250>]"
      ]
     },
     "execution_count": 14,
     "metadata": {},
     "output_type": "execute_result"
    },
    {
     "data": {
      "image/png": "[encoded data removed]",
      "text/plain": [
       "<Figure size 432x288 with 1 Axes>"
      ]
     },
     "metadata": {
      "needs_background": "light"
     },
     "output_type": "display_data"
    }
   ],
   "source": [
    "plt.close('all')\n",
    "plt.plot(range(120*401), output2)"
   ]
  },
  {
   "cell_type": "code",
   "execution_count": 15,
   "metadata": {},
   "outputs": [
    {
     "name": "stdout",
     "output_type": "stream",
     "text": [
      "0\n"
     ]
    }
   ],
   "source": [
    "idxs = np.argwhere(output2==0)\n",
    "print(len(idxs))"
   ]
  },
  {
   "cell_type": "markdown",
   "metadata": {},
   "source": [
    "### Conclusion Question e)\n",
    "It is shown by the last cell of code that there are 0 indexes where the output signal is zero."
   ]
  },
  {
   "cell_type": "markdown",
   "metadata": {},
   "source": [
    "## Question f)"
   ]
  },
  {
   "cell_type": "markdown",
   "metadata": {},
   "source": [
    "Again, let output2 be rescaled:"
   ]
  },
  {
   "cell_type": "code",
   "execution_count": 16,
   "metadata": {},
   "outputs": [],
   "source": [
    "output2_r = rescale(output2, interpolate=True)"
   ]
  },
  {
   "cell_type": "code",
   "execution_count": 17,
   "metadata": {},
   "outputs": [],
   "source": [
    "sd.play(output_r)"
   ]
  },
  {
   "cell_type": "code",
   "execution_count": 18,
   "metadata": {},
   "outputs": [],
   "source": [
    "sd.play(output2_r)"
   ]
  },
  {
   "cell_type": "markdown",
   "metadata": {},
   "source": [
    "### Conclusion Question f)\n",
    "The first signal is of a such lower quality than the second one. This is because the output2 signal has been fedback with itself, and the union of the phonemes is smoother. Therefore, it sounds more clear."
   ]
  },
  {
   "cell_type": "markdown",
   "metadata": {},
   "source": [
    "# SECTION B: Excitation estimation"
   ]
  },
  {
   "cell_type": "markdown",
   "metadata": {},
   "source": [
    "## Question a)"
   ]
  },
  {
   "cell_type": "markdown",
   "metadata": {},
   "source": [
    "We know that the correlation of a signal tries to find the resemblance between this signal and itself shifted. Now we suppose we have a $f[n]$. Let us define its autocorrelation as $R_{ff}[n]$. Now, let's define the signal $s[n] = f[n] +f[n‐N]+f[n‐2N]$. We will demonstrate that its autocorrelation is $R_{ss}[m]= 3R_{ff}[m]+2R_{ff}[m ‐N]+2R_{ff}[m +N]+ R_{ff}[m ‐2N]+ R_{ff}[m +2N]$.\n",
    "First of all, we should remember some theoretical concepts:\n",
    "###### Definition of autocorrelation: \n",
    "$$R_{ss}[m]=\\sum_{n=-\\infty}^{\\infty}s[n+m]s^*[n]=\\sum_{n=-\\infty}^{\\infty}s[n]s^*[n-m]$$\n",
    "###### Important to take into account:\n",
    "We will perform many **change of variables** and we would like to recall that we are talking about \"_variables mudas_ \", so, it does not affect on the definition of autocorrelation. "
   ]
  },
  {
   "cell_type": "markdown",
   "metadata": {},
   "source": [
    "$$\\begin{align}\n",
    "R_{ss}[m]&=\\sum_{n=-\\infty}^{\\infty}s[n+m]s^*[n]=\\sum_{n=-\\infty}^{\\infty}s[n]s^*[n-m]=\\{{\\text{by definition of }s[n]}\\}\\\\\n",
    "         &=\\sum_{n=-\\infty}^{\\infty}\\{\\{f[n+m]+f[n+m-N]+f[n+m-2N]\\}·\\{f^*[n]+f^*[n-N]+f^*[n-2N]\\}\\}\n",
    "\\end{align}$$"
   ]
  },
  {
   "cell_type": "markdown",
   "metadata": {},
   "source": [
    "where we will perform all different products (recalling what we said about the change of variables):"
   ]
  },
  {
   "cell_type": "markdown",
   "metadata": {},
   "source": [
    "* $\\sum_{n=-\\infty}^{\\infty}f[n+m]f^*[n]=R_{ff}[m]$\n",
    "* $\\sum_{n=-\\infty}^{\\infty}f[n+m]f^*[n-N]=\\{\\text{let }k=n-N\\}=\\sum_{k=-\\infty}^{\\infty}f[k+N+m]f^*[k]=R_{ff}[m+N]$\n",
    "* $\\sum_{n=-\\infty}^{\\infty}f[n+m]f^*[n-2N]=\\{\\text{let }k=n-2N\\}=\\sum_{k=-\\infty}^{\\infty}f[k+2N+m]f^*[k]=R_{ff}[m+2N]$\n",
    "* $\\sum_{n=-\\infty}^{\\infty}f[n+m-N]f^*[n]=R_{ff}[m-N]$\n",
    "* $\\sum_{n=-\\infty}^{\\infty}f[n+m-N]f^*[n-N]=\\{\\text{let }k=n-N\\}=\\sum_{k=-\\infty}^{\\infty}f[k+m]f^*[k]=R_{ff}[m]$\n",
    "* $\\sum_{n=-\\infty}^{\\infty}f[n+m-N]f^*[n-2N]=\\{\\text{let }k=n-2N\\}=\\sum_{k=-\\infty}^{\\infty}f[k+N+m]f^*[k]=R_{ff}[m+N]$\n",
    "* $\\sum_{n=-\\infty}^{\\infty}f[n+m-2N]f^*[n]=R_{ff}[m-2N]$\n",
    "* $\\sum_{n=-\\infty}^{\\infty}f[n+m-2N]f^*[n-N]=\\{\\text{let }k=n-N\\}=\\sum_{k=-\\infty}^{\\infty}f[k-N+m]f^*[k]=R_{ff}[m-N]$\n",
    "* $\\sum_{n=-\\infty}^{\\infty}f[n+m-2N]f^*[n-2N]=\\{\\text{let }k=n-2N\\}=\\sum_{k=-\\infty}^{\\infty}f[k+m]f^*[k]=R_{ff}[m]$"
   ]
  },
  {
   "cell_type": "markdown",
   "metadata": {},
   "source": [
    "and adding all the past results we obtain:"
   ]
  },
  {
   "cell_type": "markdown",
   "metadata": {},
   "source": [
    "$$R_{ss}[m]= 3R_{ff}[m]+2R_{ff}[m‐N]+2R_{ff}[m+N]+ R_{ff}[m‐2N]+ R_{ff}[m+2N]$$"
   ]
  },
  {
   "cell_type": "markdown",
   "metadata": {},
   "source": [
    "$$\\quad Q.E.D.$$"
   ]
  },
  {
   "cell_type": "markdown",
   "metadata": {},
   "source": [
    "## Question b)"
   ]
  },
  {
   "cell_type": "code",
   "execution_count": 19,
   "metadata": {},
   "outputs": [
    {
     "data": {
      "text/plain": [
       "<StemContainer object of 3 artists>"
      ]
     },
     "execution_count": 19,
     "metadata": {},
     "output_type": "execute_result"
    },
    {
     "data": {
      "image/png": "[encoded data removed]",
      "text/plain": [
       "<Figure size 504x288 with 1 Axes>"
      ]
     },
     "metadata": {
      "needs_background": "light"
     },
     "output_type": "display_data"
    }
   ],
   "source": [
    "f = np.array([1, 1, 1, 0, 0, 0, 0, 0, 0, 0, 0, 0, 0, 0, 0, 0, 0, 0, 0, 0, 0, 0, 0])\n",
    "Rff = correlate(f, f, 'full')\n",
    "plt.close('all')\n",
    "plt.figure(figsize=(7,4))\n",
    "plt.stem(range(len(Rff)), Rff)"
   ]
  },
  {
   "cell_type": "code",
   "execution_count": 20,
   "metadata": {},
   "outputs": [
    {
     "data": {
      "text/plain": [
       "<StemContainer object of 3 artists>"
      ]
     },
     "execution_count": 20,
     "metadata": {},
     "output_type": "execute_result"
    },
    {
     "data": {
      "image/png": "[encoded data removed]",
      "text/plain": [
       "<Figure size 504x288 with 1 Axes>"
      ]
     },
     "metadata": {
      "needs_background": "light"
     },
     "output_type": "display_data"
    }
   ],
   "source": [
    "# n=10\n",
    "f =    np.array([1, 1, 1, 0, 0, 0, 0, 0, 0, 0, 0, 0, 0, 0, 0, 0, 0, 0, 0, 0, 0, 0, 0])\n",
    "f_N =  np.array([0, 0, 0, 0, 0, 0, 0, 0, 0, 0, 1, 1, 1, 0, 0, 0, 0, 0, 0, 0, 0, 0, 0])\n",
    "f_2N = np.array([0, 0, 0, 0, 0, 0, 0, 0, 0, 0, 0, 0, 0, 0, 0, 0, 0, 0, 0, 0, 1, 1, 1])\n",
    "\n",
    "s = f + f_N + f_2N\n",
    "\n",
    "plt.close('all')\n",
    "plt.figure(figsize=(7,4))\n",
    "plt.stem(range(len(s)), s)"
   ]
  },
  {
   "cell_type": "code",
   "execution_count": 21,
   "metadata": {},
   "outputs": [
    {
     "data": {
      "text/plain": [
       "<StemContainer object of 3 artists>"
      ]
     },
     "execution_count": 21,
     "metadata": {},
     "output_type": "execute_result"
    },
    {
     "data": {
      "image/png": "[encoded data removed]",
      "text/plain": [
       "<Figure size 504x288 with 1 Axes>"
      ]
     },
     "metadata": {
      "needs_background": "light"
     },
     "output_type": "display_data"
    }
   ],
   "source": [
    "Rss = correlate(s, s, 'full')\n",
    "plt.close('all')\n",
    "plt.figure(figsize=(7,4))\n",
    "plt.stem(range(-len(Rss)//2 + 1, len(Rss)//2 + 1), Rss)"
   ]
  },
  {
   "cell_type": "markdown",
   "metadata": {},
   "source": [
    "### Conclusion Question b)\n",
    "With this example we have built it looks clear that this phenomenon certainly happens. If we plot the autocorrelation centered at 0, with a period $N = 10$ we see relative maximums at $\\;\\pm N = \\pm 10\\;$ and $\\;\\pm 2N = \\pm 20$."
   ]
  },
  {
   "cell_type": "markdown",
   "metadata": {},
   "source": [
    "## Question c)"
   ]
  },
  {
   "cell_type": "code",
   "execution_count": 22,
   "metadata": {},
   "outputs": [],
   "source": [
    "def is_noise(origin, N, Rxx):\n",
    "    if Rxx[origin + N] / Rxx[origin] < 0.4:\n",
    "        return True\n",
    "    return False"
   ]
  },
  {
   "cell_type": "code",
   "execution_count": 23,
   "metadata": {},
   "outputs": [],
   "source": [
    "def period(x):\n",
    "    Rxx = correlate(x, x, 'full')\n",
    "    origin = np.argmax(Rxx)\n",
    "    idxs = argrelextrema(Rxx[origin:], np.greater)[0]\n",
    "    if idxs.size == 0:\n",
    "        return 0 # null\n",
    "    N = idxs[np.argmax([Rxx[origin+idx] for idx in idxs])]  # period\n",
    "\n",
    "    if is_noise(origin, N, Rxx):\n",
    "        return 0\n",
    "        \n",
    "    return N"
   ]
  },
  {
   "cell_type": "code",
   "execution_count": 24,
   "metadata": {},
   "outputs": [
    {
     "name": "stdout",
     "output_type": "stream",
     "text": [
      "[ 0  0  0  0  0  0  0  0  0  0  0  0  0  0  0  0  0  0  0  0  0  0  0  0\n",
      "  0  0  0 43 43 44 45 47 49 51 54 56 59 61 62 63  0  0  0  0  0  0  0 45\n",
      "  0  0  0  0  0  0  0  0  0  0  0 62 54 49 49 50 51 59 48 51 53 59  0  0\n",
      "  0  0  0  0 57 59 61 62 62 64 65  0 66 66 65 64 64  0  0  0  0  0  0  0\n",
      "  0 55 55 56 56 57 57 57 57 54 54 53 51 54 54 55 55 55 55 56 49 59 59 59\n",
      " 62  0  0  0  0 61 63 65 66  0  0  0  0  0  0  0  0  0  0  0  0 53 56  0\n",
      "  0  0  0  0 59 60 61 61 60 58 57 58 57 57 56 55 54 53 52 49 48 46 44 43\n",
      " 43 43 43 43  0  0  0  0  0  0  0  0  0  0  0  0  0  0  0  0  0  0  0  0\n",
      "  0  0  0  0  0  0  0 46 44 43 43 43 43 43 43 44 42 42 42 43 43 43 43 43\n",
      " 44 45 46 47 48 49 49 49 50 50 52 53 53 52 53 56  0  0  0  0  0  0  0 45\n",
      " 50 51 52 51 50 50 50 48 48 52  0  0  0  0  0  0 44 44 43 44 46 66  0  0\n",
      "  0 49 49 50 51 53 53 54 55 55 56 57  0  0  0  0  0 27 27  0  0 44 44 45\n",
      " 47  0  0  0  0  0  0  0  0  0 45 46 47 48 52 53 55 56 56 57 56 55 55 54\n",
      " 55 55 54 51 49 48 50  0  0  0  0  0  0  0 34 52 53 57  0  0  0  0  0 32\n",
      " 57 56 56 61 60 60 54 59 62 61 62  0 64 65 67  0  0  0  0 72  0  0  0  0\n",
      "  0  0  0  0  0  0  0  0  0  0  0  0  0  0  0  0  0  0  0  0  0  0  0  0\n",
      "  0  0  0  0  0  0  0  0  0  0  0  0  0  0  0  0  0]\n"
     ]
    }
   ],
   "source": [
    "periods = np.array([]).astype(int)\n",
    "for n in range(401):\n",
    "    signal = x_n[n]\n",
    "    if not(period(signal)):\n",
    "        periods = np.append(periods, 0)\n",
    "    else:\n",
    "        periods = np.append(periods, period(signal))\n",
    "\n",
    "print(periods)"
   ]
  },
  {
   "cell_type": "markdown",
   "metadata": {},
   "source": [
    "We have chosen $0$ to be the _null_ value for the period. Signals that have the value $0$ as period are the ones that are considered _non-periodic_."
   ]
  },
  {
   "cell_type": "markdown",
   "metadata": {},
   "source": [
    "## Question d)"
   ]
  },
  {
   "cell_type": "code",
   "execution_count": 25,
   "metadata": {},
   "outputs": [],
   "source": [
    "def noise_generator(len):\n",
    "    return np.random.normal(loc=0, scale=1, size=len)"
   ]
  },
  {
   "cell_type": "code",
   "execution_count": 26,
   "metadata": {},
   "outputs": [],
   "source": [
    "def deltas(start, Ni):\n",
    "    x = np.zeros(120)\n",
    "    i = 0\n",
    "    while (start + i) < 120:\n",
    "        x[int(start+i)] = 1\n",
    "        i = i + Ni\n",
    "    return x, 120 - (start + i - Ni)"
   ]
  },
  {
   "cell_type": "code",
   "execution_count": 27,
   "metadata": {},
   "outputs": [],
   "source": [
    "def generate_X(p):\n",
    "    X=np.zeros((401, 120))\n",
    "    D = np.zeros(401)\n",
    "    \n",
    "    diff = 0\n",
    "    for i in range(401):\n",
    "        Ni = p[i]\n",
    "        if Ni != 0:\n",
    "            if diff != 0:\n",
    "                start = Ni - diff\n",
    "            else:\n",
    "                start = 0\n",
    "            while start < 0:\n",
    "                start = start + Ni\n",
    "            x, diff = deltas(start, Ni)\n",
    "            X[i] = np.array([x])\n",
    "            D[i] = diff\n",
    "        else:\n",
    "            X[i] = np.array([noise_generator(120)])\n",
    "            D[i] = diff\n",
    "    return X, D"
   ]
  },
  {
   "cell_type": "code",
   "execution_count": 28,
   "metadata": {},
   "outputs": [],
   "source": [
    "excit, diffs = generate_X(periods)  # array with the excitation sequences"
   ]
  },
  {
   "cell_type": "markdown",
   "metadata": {},
   "source": [
    "Let us show an example of the two different types of excitations:"
   ]
  },
  {
   "cell_type": "code",
   "execution_count": 29,
   "metadata": {},
   "outputs": [
    {
     "data": {
      "image/png": "[encoded data removed]",
      "text/plain": [
       "<Figure size 720x360 with 2 Axes>"
      ]
     },
     "metadata": {
      "needs_background": "light"
     },
     "output_type": "display_data"
    }
   ],
   "source": [
    "noise_example = excit[0]\n",
    "periodic_signal_example = excit[99]\n",
    "\n",
    "fig, axs = plt.subplots(nrows=1, ncols=2)\n",
    "fig.set_figheight(5)\n",
    "fig.set_figwidth(10)\n",
    "axs[0].stem(noise_example)\n",
    "axs[0].title.set_text('White Gaussian Noise')\n",
    "axs[1].stem(periodic_signal_example)\n",
    "axs[1].title.set_text('Delta Sequence')\n",
    "plt.show()"
   ]
  },
  {
   "cell_type": "markdown",
   "metadata": {},
   "source": [
    "One of them is the noisy one, used for obstruent phonemes and the other one is an example of a sequence of deltas, used for sonorant phonemes."
   ]
  },
  {
   "cell_type": "markdown",
   "metadata": {},
   "source": [
    "## Question e)"
   ]
  },
  {
   "cell_type": "code",
   "execution_count": 30,
   "metadata": {},
   "outputs": [],
   "source": [
    "audio = np.array([])\n",
    "zf = np.zeros(10)\n",
    "for n in range(401):\n",
    "    evaluate, zf = scipy.signal.lfilter([B[n]], a_i[n], excit[n], axis= -1, zi=zf[-10:])\n",
    "    audio = np.append(audio, evaluate)"
   ]
  },
  {
   "cell_type": "code",
   "execution_count": 31,
   "metadata": {},
   "outputs": [],
   "source": [
    "audio_r = rescale(audio, interpolate=True)\n",
    "sd.play(audio_r)"
   ]
  },
  {
   "cell_type": "markdown",
   "metadata": {},
   "source": [
    "The sequence is heard properly. However, there are some loud short bumbs in the signal. This could be caused because of some kind of delay between the original excitations and the ones generated here.\n",
    "\n",
    "Below, we have an axample of sequence of given excitation sequences and the ones generated by us. We can see there is a little delay between the given ones and the ones generated here, and this could be the reason of the bumps in the audio."
   ]
  },
  {
   "cell_type": "code",
   "execution_count": 32,
   "metadata": {},
   "outputs": [
    {
     "data": {
      "image/png": "[encoded data removed]",
      "text/plain": [
       "<Figure size 1440x360 with 6 Axes>"
      ]
     },
     "metadata": {
      "needs_background": "light"
     },
     "output_type": "display_data"
    }
   ],
   "source": [
    "n = 27\n",
    "\n",
    "ex0 = excit[n]\n",
    "x0 = x_n[n]\n",
    "ex1 = excit[n+1]\n",
    "x1 = x_n[n+1]\n",
    "ex2 = excit[n+2]\n",
    "x2 = x_n[n+2]\n",
    "ex3 = excit[n+3]\n",
    "x3 = x_n[n+3]\n",
    "ex4 = excit[n+4]\n",
    "x4 = x_n[n+4]\n",
    "ex5 = excit[n+5]\n",
    "x5 = x_n[n+5]\n",
    "\n",
    "fig, axs = plt.subplots(2, 3)\n",
    "\n",
    "fig.set_figheight(5)\n",
    "fig.set_figwidth(20)\n",
    "\n",
    "axs[0,0].plot(ex0, color='b', label='Own')\n",
    "axs[0,0].plot(x0, color='r', label='Given')\n",
    "\n",
    "axs[0,1].plot(ex1, color='b', label='Own')\n",
    "axs[0,1].plot(x1, color='r', label='Given')\n",
    "\n",
    "axs[0,2].plot(ex2, color='b', label='Own')\n",
    "axs[0,2].plot(x2, color='r', label='Given')\n",
    "\n",
    "axs[1,0].plot(ex3, color='b', label='Own')\n",
    "axs[1,0].plot(x3, color='r', label='Given')\n",
    "\n",
    "axs[1,1].plot(ex4, color='b', label='Own')\n",
    "axs[1,1].plot(x4, color='r', label='Given')\n",
    "\n",
    "axs[1,2].plot(ex5, color='b', label='Own')\n",
    "axs[1,2].plot(x5, color='r', label='Given')\n",
    "\n",
    "plt.legend()\n",
    "plt.show()"
   ]
  },
  {
   "cell_type": "markdown",
   "metadata": {},
   "source": [
    "To make sure the delay is not an error of our functions, let's check the deltas in the given set x_n follow the rule stated in the PDF: **the first delta of the\n",
    "n-th frame does not have to start at n = 0 but must start at position Ni-number of\n",
    "samples between the last delta and NT.**"
   ]
  },
  {
   "cell_type": "markdown",
   "metadata": {},
   "source": [
    "First, we check the periods are the equal for x_n and our excitations:"
   ]
  },
  {
   "cell_type": "code",
   "execution_count": 33,
   "metadata": {},
   "outputs": [
    {
     "data": {
      "text/plain": [
       "401"
      ]
     },
     "execution_count": 33,
     "metadata": {},
     "output_type": "execute_result"
    }
   ],
   "source": [
    "xnperiods = np.zeros(401)\n",
    "\n",
    "for n in range(401):\n",
    "    if periods[n] != 0:\n",
    "        ones = np.argwhere(x_n[n] != 0.0)\n",
    "        xnperiods[n] = abs(ones[0] - ones[1])\n",
    "        \n",
    "    else:\n",
    "        xnperiods[n] = 0\n",
    "\n",
    "np.count_nonzero(xnperiods == periods) # All the 401 periods are equal"
   ]
  },
  {
   "cell_type": "markdown",
   "metadata": {},
   "source": [
    "Now let's check the differences we used to shift the first delta in our excitations are not all the same that the ones extracted through x_n:"
   ]
  },
  {
   "cell_type": "code",
   "execution_count": 34,
   "metadata": {},
   "outputs": [
    {
     "data": {
      "text/plain": [
       "31"
      ]
     },
     "execution_count": 34,
     "metadata": {},
     "output_type": "execute_result"
    }
   ],
   "source": [
    "xndiffs = np.zeros(401)\n",
    "\n",
    "for n in range(401):\n",
    "    if xnperiods[n] != 0:\n",
    "        ones = np.argwhere(x_n[n] != 0.0)\n",
    "        last = ones[-1]\n",
    "        xndiffs[n] = 120 - last\n",
    "    else:\n",
    "        xndiffs[n] = xndiffs[n-1]\n",
    "\n",
    "np.count_nonzero(xndiffs == diffs) # only 31 of 401 diffs are the same"
   ]
  },
  {
   "cell_type": "markdown",
   "metadata": {},
   "source": [
    "Finally, let's check that not all the differences computed through x_n follow the rule stated in the PDF:"
   ]
  },
  {
   "cell_type": "code",
   "execution_count": 35,
   "metadata": {},
   "outputs": [
    {
     "data": {
      "text/plain": [
       "254"
      ]
     },
     "execution_count": 35,
     "metadata": {},
     "output_type": "execute_result"
    }
   ],
   "source": [
    "correct_diff = np.ones(401, dtype=bool)\n",
    "\n",
    "for n in range(401):\n",
    "    if xnperiods[n] != 0:\n",
    "        ones = np.argwhere(x_n[n] != 0.0)\n",
    "        first = ones[0]\n",
    "        if first != xnperiods[n] - xndiffs[n-1]:\n",
    "            correct_diff[n] = False\n",
    "\n",
    "np.count_nonzero(correct_diff) # only 254 diffs are following the rule"
   ]
  },
  {
   "cell_type": "markdown",
   "metadata": {},
   "source": [
    "Therefore, we can conclude that the delays are not due to a bug in the code nor to a theoretical implementation mistake. The delay is intrinsic in the way the rule for the shifting of the first deltas has been stated. So the bumps in the audio cannot be removed with the current information."
   ]
  },
  {
   "cell_type": "markdown",
   "metadata": {},
   "source": [
    "## Question f)"
   ]
  },
  {
   "cell_type": "code",
   "execution_count": 81,
   "metadata": {},
   "outputs": [],
   "source": [
    "var = [0.5, 3, 0.2, 0.01] #variations of the period\n",
    "    \n",
    "new_p = [(periods.copy() * v).astype(int) for v in var] # new periods\n",
    "\n",
    "excits = [generate_X(p)[0] for p in new_p]\n",
    "\n",
    "audios = [0, 0, 0, 0]\n",
    "audio2 = np.array([])\n",
    "zf = np.zeros(10)\n",
    "\n",
    "for i in range(len(var)):\n",
    "    audios[i] = np.array([])\n",
    "    for n in range(401):\n",
    "        evaluate, zf = scipy.signal.lfilter([B[n]], a_i[n], excits[i][n], axis= -1, zi=zf[-10:])\n",
    "        audios[i] = np.append(audios[i], evaluate)\n",
    "    \n",
    "    audios[i] = rescale(audios[i], interpolate=True)\n",
    "\n",
    "import time\n",
    "for aud in audios:\n",
    "    sd.play(aud)\n",
    "    time.sleep(7)"
   ]
  },
  {
   "cell_type": "markdown",
   "metadata": {},
   "source": [
    "In the first example, the period of every frame is decremented by a 50% of its value. Consequently, when the resultant synthesized signal is reproduced, we can observe a clear change. The decrementation of the period produces the signal's sound sharper when it is reproduced. We have increased the pitch!\n",
    "\n",
    "The same occurs for all the examples. If the variation is greater than 1, the signal sounds graver. However, the last variation (0.01) sounds graver. This is not actually true, the thing is that the pitch is so sharp human ear cannot even hear it. And we only hear the grave distorsioned part."
   ]
  }
 ],
 "metadata": {
  "kernelspec": {
   "display_name": "Python 3",
   "language": "python",
   "name": "python3"
  },
  "language_info": {
   "codemirror_mode": {
    "name": "ipython",
    "version": 3
   },
   "file_extension": ".py",
   "mimetype": "text/x-python",
   "name": "python",
   "nbconvert_exporter": "python",
   "pygments_lexer": "ipython3",
   "version": "3.7.4"
  }
 },
 "nbformat": 4,
 "nbformat_minor": 2
}

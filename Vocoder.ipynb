{
 "cells": [
  {
   "cell_type": "markdown",
   "metadata": {},
   "source": [
    "# VOCODER ANALYSIS"
   ]
  },
  {
   "cell_type": "markdown",
   "metadata": {},
   "source": [
    "## Authors:\n",
    "#### * Cortada Garcia, Martí\n",
    "#### * Gadea Alcaide, Tomàs\n",
    "#### * Matas Albiol, Pau\n",
    "#### * Poch Soler, Jofre"
   ]
  },
  {
   "cell_type": "markdown",
   "metadata": {},
   "source": [
    "### Setup:"
   ]
  },
  {
   "cell_type": "code",
   "execution_count": 1,
   "metadata": {},
   "outputs": [],
   "source": [
    "# numerical\n",
    "import scipy.io\n",
    "import scipy.signal\n",
    "import numpy as np\n",
    "# plotting\n",
    "import matplotlib.pyplot as plt\n",
    "%matplotlib notebook\n",
    "# sound modules\n",
    "import sounddevice as sd\n",
    "from scipy.io import wavfile\n",
    "# warnings\n",
    "import warnings\n",
    "warnings.filterwarnings('ignore')  # shut warnings"
   ]
  },
  {
   "cell_type": "markdown",
   "metadata": {},
   "source": [
    "### Auxiliar functions:"
   ]
  },
  {
   "cell_type": "code",
   "execution_count": 2,
   "metadata": {},
   "outputs": [],
   "source": [
    "def rescale(signal, factor=6, interpolate=False):\n",
    "    dom = len(signal)\n",
    "    if not interpolate:\n",
    "        new = np.zeros(dom*factor)\n",
    "        for idx, val in enumerate(signal):\n",
    "            new[idx*factor] = val\n",
    "        return new\n",
    "    # with interpolation:\n",
    "    return np.interp(np.linspace(0, dom, factor*dom+1), np.arange(dom), signal)"
   ]
  },
  {
   "cell_type": "markdown",
   "metadata": {},
   "source": [
    "### Loading files:"
   ]
  },
  {
   "cell_type": "code",
   "execution_count": 3,
   "metadata": {},
   "outputs": [
    {
     "name": "stdout",
     "output_type": "stream",
     "text": [
      "dict_keys(['coef', 'excit', 'ganancia'])\n"
     ]
    }
   ],
   "source": [
    "mat = scipy.io.loadmat('sintesis.mat')  # dict\n",
    "# delete useless data\n",
    "del mat['__header__']\n",
    "del mat['__version__']\n",
    "del mat['__globals__']\n",
    "print(mat.keys())"
   ]
  },
  {
   "cell_type": "code",
   "execution_count": 4,
   "metadata": {},
   "outputs": [
    {
     "name": "stdout",
     "output_type": "stream",
     "text": [
      "B   (type, shape) =  <class 'numpy.ndarray'> (401,)\n",
      "a_i (type, shape) =  <class 'numpy.ndarray'> (401, 11)\n",
      "x_n (type, shape) =  <class 'numpy.ndarray'> (401, 120)\n"
     ]
    }
   ],
   "source": [
    "B = mat['ganancia'][0]\n",
    "a_i = mat['coef']\n",
    "x_n = mat['excit']\n",
    "\n",
    "print(\"B   (type, shape) = \", type(B), B.shape)\n",
    "print(\"a_i (type, shape) = \", type(a_i), a_i.shape)\n",
    "print(\"x_n (type, shape) = \", type(x_n), x_n.shape)"
   ]
  },
  {
   "cell_type": "markdown",
   "metadata": {},
   "source": [
    "### Brief introduction:"
   ]
  },
  {
   "cell_type": "markdown",
   "metadata": {},
   "source": [
    "Before getting into the subject, let us explain briefly how the synthetic signal is generated and how we will us it. The signal is generated as follows:\n",
    "$$y[n]=bx[n]-\\sum_{i=1}^{p}a_iy[n-1]\\hspace{1cm}n=0,...,N-1$$\n",
    "where:\n",
    "* $b=$ gain \n",
    "* $x[n]=$ excitation ($x[n]=excit[n]$)\n",
    "* $coef[i]=a[i];$   $i=0,...,p;$   $a[0=1]$\n",
    "\n",
    "and we keep concatenating each $y[n]$ frame till we get the total synthetic signal. Once understood the mathematical aprroximation, we will take advantadge of $\\texttt{python}$ and use **scipy.signal.lfilter(** _b, a, x, axis=- 1, zi=None_ **)** which modelizes the previous approximation directly."
   ]
  },
  {
   "cell_type": "markdown",
   "metadata": {},
   "source": [
    "# SECTION A: Filtering "
   ]
  },
  {
   "cell_type": "markdown",
   "metadata": {},
   "source": [
    "## Question a)"
   ]
  },
  {
   "cell_type": "markdown",
   "metadata": {},
   "source": [
    "We are asked to represent the impulse response of the 100th frame. To do so, we will put at the input of the filter the sequence $x[n]={1, 0, 0, 0, 0, ...}$ Afterwards, we will study its lenght:"
   ]
  },
  {
   "cell_type": "code",
   "execution_count": 5,
   "metadata": {},
   "outputs": [
    {
     "data": {
      "text/plain": [
       "<StemContainer object of 3 artists>"
      ]
     },
     "execution_count": 5,
     "metadata": {},
     "output_type": "execute_result"
    },
    {
     "data": {
      "image/png": "[encoded data removed]",
      "text/plain": [
       "<Figure size 432x288 with 1 Axes>"
      ]
     },
     "metadata": {
      "needs_background": "light"
     },
     "output_type": "display_data"
    }
   ],
   "source": [
    "dK = np.array([1]+[0]*119)  # Kronecker delta\n",
    "h_n = scipy.signal.lfilter([B[99]], a_i[99], dK, axis= -1, zi=None)  # impulse response \n",
    "plt.close('all')\n",
    "plt.stem(range(120), h_n)"
   ]
  },
  {
   "cell_type": "code",
   "execution_count": 6,
   "metadata": {},
   "outputs": [
    {
     "name": "stdout",
     "output_type": "stream",
     "text": [
      "120\n"
     ]
    }
   ],
   "source": [
    "print(len(h_n))"
   ]
  },
  {
   "cell_type": "markdown",
   "metadata": {},
   "source": [
    "### Conclusion part A:\n",
    "The impulse response has length 120."
   ]
  },
  {
   "cell_type": "markdown",
   "metadata": {},
   "source": [
    "## Question b)"
   ]
  },
  {
   "cell_type": "markdown",
   "metadata": {},
   "source": [
    "We will represent the same output (that is the 100th frame), but now we are asked to apply its corresponding excitement and gainth (that we can find at _sintesis.mat_ file, which we previously load). Let's see the output:"
   ]
  },
  {
   "cell_type": "code",
   "execution_count": 7,
   "metadata": {},
   "outputs": [
    {
     "data": {
      "text/plain": [
       "<StemContainer object of 3 artists>"
      ]
     },
     "execution_count": 7,
     "metadata": {},
     "output_type": "execute_result"
    },
    {
     "data": {
      "image/png": "[encoded data removed]",
      "text/plain": [
       "<Figure size 432x288 with 1 Axes>"
      ]
     },
     "metadata": {
      "needs_background": "light"
     },
     "output_type": "display_data"
    }
   ],
   "source": [
    "y_n = scipy.signal.lfilter([B[99]], a_i[99], x_n[99], axis= -1, zi=None)\n",
    "plt.close('all')\n",
    "plt.stem(range(120), y_n)"
   ]
  },
  {
   "cell_type": "markdown",
   "metadata": {},
   "source": [
    "## Question c)"
   ]
  },
  {
   "cell_type": "markdown",
   "metadata": {},
   "source": [
    "Finally, we will compute the total synthesis filtring all frames with its corresponding excitations and concatenating the outputs. Let's check what happens:"
   ]
  },
  {
   "cell_type": "code",
   "execution_count": 8,
   "metadata": {},
   "outputs": [
    {
     "data": {
      "text/plain": [
       "[<matplotlib.lines.Line2D at 0x7feacbd89410>]"
      ]
     },
     "execution_count": 8,
     "metadata": {},
     "output_type": "execute_result"
    },
    {
     "data": {
      "image/png": "[encoded data removed]",
      "text/plain": [
       "<Figure size 432x288 with 1 Axes>"
      ]
     },
     "metadata": {
      "needs_background": "light"
     },
     "output_type": "display_data"
    }
   ],
   "source": [
    "domain = range(120*401)\n",
    "output = np.array([])\n",
    "for n in range(401):\n",
    "    output = np.append(output, scipy.signal.lfilter([B[n]], a_i[n], x_n[n], axis= -1, zi=None))\n",
    "\n",
    "plt.close('all')\n",
    "plt.plot(domain, output)"
   ]
  },
  {
   "cell_type": "code",
   "execution_count": 9,
   "metadata": {},
   "outputs": [],
   "source": [
    "sd.play(output)"
   ]
  },
  {
   "cell_type": "markdown",
   "metadata": {},
   "source": [
    "The output signal is quite short to be heard propperly, thus let output be rescaled for the sake of practicality:"
   ]
  },
  {
   "cell_type": "code",
   "execution_count": 10,
   "metadata": {},
   "outputs": [],
   "source": [
    "output_r = rescale(output)\n",
    "sd.play(output_r)"
   ]
  },
  {
   "cell_type": "markdown",
   "metadata": {},
   "source": [
    "## Question d)"
   ]
  },
  {
   "cell_type": "code",
   "execution_count": 11,
   "metadata": {},
   "outputs": [
    {
     "name": "stdout",
     "output_type": "stream",
     "text": [
      "There are  4927  points where output is zero.\n",
      "The first index where output is zero:  3360\n"
     ]
    }
   ],
   "source": [
    "idxs = np.argwhere(output==0)\n",
    "print(\"There are \", len(idxs), \" points where output is zero.\")\n",
    "first_zero =  idxs[0,0]\n",
    "print(\"The first index where output is zero: \", first_zero)"
   ]
  },
  {
   "cell_type": "markdown",
   "metadata": {},
   "source": [
    "In order to find out how many points of the signal have the value 0, we have used the command ```idxs = np.argwhere(output==0)```. It clearly shows that there are 4927 points where the output signal is 0.\n",
    "\n",
    "Once having shown that, the next step is showing that there are some segments where the synthesized signal changes abruptly to 0 and other short ones which also take the value 0. To see that, we have projected a short segment (lenght 30) of the output signal that contains some 0 values:"
   ]
  },
  {
   "cell_type": "code",
   "execution_count": 12,
   "metadata": {},
   "outputs": [
    {
     "data": {
      "text/plain": [
       "[<matplotlib.lines.Line2D at 0x7feacbecc1d0>]"
      ]
     },
     "execution_count": 12,
     "metadata": {},
     "output_type": "execute_result"
    },
    {
     "data": {
      "image/png": "[encoded data removed]",
      "text/plain": [
       "<Figure size 432x288 with 1 Axes>"
      ]
     },
     "metadata": {
      "needs_background": "light"
     },
     "output_type": "display_data"
    }
   ],
   "source": [
    "plt.close('all')\n",
    "plt.plot(range(30), output[first_zero - 10:first_zero+20])"
   ]
  },
  {
   "cell_type": "markdown",
   "metadata": {},
   "source": [
    "### Conclusion Part D:\n",
    "In this example we can see that there is a secuence where the output is zero, and suddenly it changes to a higher value. If we repeat this for every zero secuence, we can see the changes on the signal."
   ]
  },
  {
   "cell_type": "markdown",
   "metadata": {},
   "source": [
    "## Question e)"
   ]
  },
  {
   "cell_type": "markdown",
   "metadata": {},
   "source": [
    "To synthesize all the frames so that the output signal doesen't present the value 0 at any point, it is necessary a loop that, for each individual frame, its initial conditions ```zi``` are the final conditions ```zf```of the previous frame (setting the initial conditions of the first frame as an array of zeros)."
   ]
  },
  {
   "cell_type": "code",
   "execution_count": 13,
   "metadata": {},
   "outputs": [],
   "source": [
    "output2 = np.array([])\n",
    "zf = np.zeros(10)\n",
    "for n in range(401):\n",
    "    evaluate, zf = scipy.signal.lfilter([B[n]], a_i[n], x_n[n], axis= -1, zi=zf[-10:])\n",
    "    output2 = np.append(output2, evaluate)"
   ]
  },
  {
   "cell_type": "code",
   "execution_count": 14,
   "metadata": {},
   "outputs": [
    {
     "data": {
      "text/plain": [
       "[<matplotlib.lines.Line2D at 0x7feacbecc790>]"
      ]
     },
     "execution_count": 14,
     "metadata": {},
     "output_type": "execute_result"
    },
    {
     "data": {
      "image/png": "[encoded data removed]",
      "text/plain": [
       "<Figure size 432x288 with 1 Axes>"
      ]
     },
     "metadata": {
      "needs_background": "light"
     },
     "output_type": "display_data"
    }
   ],
   "source": [
    "plt.close('all')\n",
    "plt.plot(range(120*401), output2)"
   ]
  },
  {
   "cell_type": "code",
   "execution_count": 15,
   "metadata": {},
   "outputs": [
    {
     "name": "stdout",
     "output_type": "stream",
     "text": [
      "0\n"
     ]
    }
   ],
   "source": [
    "idxs = np.argwhere(output2==0)\n",
    "print(len(idxs))"
   ]
  },
  {
   "cell_type": "markdown",
   "metadata": {},
   "source": [
    "### Conclusion Part E:\n",
    "It is shown by the last cell of code that there are 0 indexes where the output signal is zero."
   ]
  },
  {
   "cell_type": "markdown",
   "metadata": {},
   "source": [
    "## Question f)"
   ]
  },
  {
   "cell_type": "markdown",
   "metadata": {},
   "source": [
    "Again, let output2 be rescaled:"
   ]
  },
  {
   "cell_type": "code",
   "execution_count": 16,
   "metadata": {},
   "outputs": [],
   "source": [
    "output2_r = rescale(output2, interpolate=True)"
   ]
  },
  {
   "cell_type": "code",
   "execution_count": 17,
   "metadata": {},
   "outputs": [],
   "source": [
    "sd.play(output_r)"
   ]
  },
  {
   "cell_type": "code",
   "execution_count": 18,
   "metadata": {},
   "outputs": [],
   "source": [
    "sd.play(output2_r)"
   ]
  },
  {
   "cell_type": "markdown",
   "metadata": {},
   "source": [
    "### Conclusion Part F\n",
    "The first signal is of a such lower quality than the second one. This is because the output2 signal has been fedback with itself, and the union of the phonemes is smoother. Therefore, it sounds more clear."
   ]
  },
  {
   "cell_type": "markdown",
   "metadata": {},
   "source": [
    "# SECTION B: Excitation estimation"
   ]
  },
  {
   "cell_type": "markdown",
   "metadata": {},
   "source": [
    "## Question a)"
   ]
  },
  {
   "cell_type": "markdown",
   "metadata": {},
   "source": [
    "We know that the correlation of a signal tries to find the resemblance between this signal and itself shifted. Now we suppose we have a $f[n]$. Let us define its autocorrelation as $R_{ff}[n]$. Now, let's define the signal $s[n] = f[n] +f[n‐N]+f[n‐2N]$. We will demonstrate that its autocorrelation is $R_{ss}[m]= 3R_{ff}[m]+2R_{ff}[m ‐N]+2R_{ff}[m +N]+ R_{ff}[m ‐2N]+ R_{ff}[m +2N]$.\n",
    "First of all, we should remember some theoretical concepts:\n",
    "###### Definition of autocorrelation: \n",
    "$$R_{ss}[m]=\\sum_{n=-\\infty}^{\\infty}s[n+m]s^*[n]=\\sum_{n=-\\infty}^{\\infty}s[n]s^*[n-m]$$\n",
    "###### Important to take into account:\n",
    "We will perform many **change of variables** and we would like to recall that we are talking about \"_variables mudas_ \", so, it does not affect on the definition of autocorrelation. "
   ]
  },
  {
   "cell_type": "markdown",
   "metadata": {},
   "source": [
    "$$\\begin{align}\n",
    "R_{ss}[m]&=\\sum_{n=-\\infty}^{\\infty}s[n+m]s^*[n]=\\sum_{n=-\\infty}^{\\infty}s[n]s^*[n-m]=\\{{\\text{by definition of }s[n]}\\}\\\\\n",
    "         &=\\sum_{n=-\\infty}^{\\infty}\\{\\{f[n+m]+f[n+m-N]+f[n+m-2N]\\}·\\{f^*[n]+f^*[n-N]+f^*[n-2N]\\}\\}\n",
    "\\end{align}$$"
   ]
  },
  {
   "cell_type": "markdown",
   "metadata": {},
   "source": [
    "where we will perform all different products (recalling what we said about the change of variables):"
   ]
  },
  {
   "cell_type": "markdown",
   "metadata": {},
   "source": [
    "* $\\sum_{n=-\\infty}^{\\infty}f[n+m]f^*[n]=R_{ff}[m]$\n",
    "* $\\sum_{n=-\\infty}^{\\infty}f[n+m]f^*[n-N]=\\{\\text{let }k=n-N\\}=\\sum_{n=-\\infty}^{\\infty}f[k+N+m]f^*[k]=R_{ff}[m+N]$\n",
    "* $\\sum_{n=-\\infty}^{\\infty}f[n+m]f^*[n-2N]=\\{\\text{let }k=n-2N\\}=\\sum_{n=-\\infty}^{\\infty}f[k+2N+m]f^*[k]=R_{ff}[m+2N]$\n",
    "* $\\sum_{n=-\\infty}^{\\infty}f[n+m-N]f^*[n]=R_{ff}[m-N]$\n",
    "* $\\sum_{n=-\\infty}^{\\infty}f[n+m-N]f^*[n-N]=\\{\\text{let }k=n-N\\}=\\sum_{n=-\\infty}^{\\infty}f[k+m]f^*[k]=R_{ff}[m]$\n",
    "* $\\sum_{n=-\\infty}^{\\infty}f[n+m-N]f^*[n-2N]=\\{\\text{let }k=n-2N\\}=\\sum_{n=-\\infty}^{\\infty}f[k+N+m]f^*[k]=R_{ff}[m+N]$\n",
    "* $\\sum_{n=-\\infty}^{\\infty}f[n+m-2N]f^*[n]=R_{ff}[m-2N]$\n",
    "* $\\sum_{n=-\\infty}^{\\infty}f[n+m-2N]f^*[n-N]=\\{\\text{let }k=n-N\\}=\\sum_{n=-\\infty}^{\\infty}f[k-N+m]f^*[k]=R_{ff}[m-N]$\n",
    "* $\\sum_{n=-\\infty}^{\\infty}f[n+m-2N]f^*[n-2N]=\\{\\text{let }k=n-2N\\}=\\sum_{n=-\\infty}^{\\infty}f[k+m]f^*[k]=R_{ff}[m]$"
   ]
  },
  {
   "cell_type": "markdown",
   "metadata": {},
   "source": [
    "and adding all the past results we obtain:"
   ]
  },
  {
   "cell_type": "markdown",
   "metadata": {},
   "source": [
    "$$R_{ss}[m]= 3R_{ff}[m]+2R_{ff}[m‐N]+2R_{ff}[m+N]+ R_{ff}[m‐2N]+ R_{ff}[m+2N]$$"
   ]
  },
  {
   "cell_type": "markdown",
   "metadata": {},
   "source": [
    "$$\\quad Q.E.D.$$"
   ]
  },
  {
   "cell_type": "markdown",
   "metadata": {},
   "source": [
    "# SECTION C: Synthetic signal modification"
   ]
  },
  {
   "cell_type": "code",
   "execution_count": null,
   "metadata": {},
   "outputs": [],
   "source": []
  }
 ],
 "metadata": {
  "kernelspec": {
   "display_name": "Python 3",
   "language": "python",
   "name": "python3"
  },
  "language_info": {
   "codemirror_mode": {
    "name": "ipython",
    "version": 3
   },
   "file_extension": ".py",
   "mimetype": "text/x-python",
   "name": "python",
   "nbconvert_exporter": "python",
   "pygments_lexer": "ipython3",
   "version": "3.7.3"
  }
 },
 "nbformat": 4,
 "nbformat_minor": 2
}
